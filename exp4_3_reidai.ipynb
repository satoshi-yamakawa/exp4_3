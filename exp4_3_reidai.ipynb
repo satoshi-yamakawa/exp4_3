{
  "nbformat": 4,
  "nbformat_minor": 0,
  "metadata": {
    "colab": {
      "name": "exp4_3-reidai.ipynb",
      "provenance": [],
      "toc_visible": true,
      "authorship_tag": "ABX9TyMHeclccpU5+a8ib3x+CXsN",
      "include_colab_link": true
    },
    "kernelspec": {
      "name": "python3",
      "display_name": "Python 3"
    }
  },
  "cells": [
    {
      "cell_type": "markdown",
      "metadata": {
        "id": "view-in-github",
        "colab_type": "text"
      },
      "source": [
        "<a href=\"https://colab.research.google.com/github/satoshi-yamakawa/exp4_3/blob/3-reidai/exp4_3_reidai.ipynb\" target=\"_parent\"><img src=\"https://colab.research.google.com/assets/colab-badge.svg\" alt=\"Open In Colab\"/></a>"
      ]
    },
    {
      "cell_type": "code",
      "metadata": {
        "id": "Lig-d8ZbepSf"
      },
      "source": [
        "20000×1の情報ビット列生成"
      ],
      "execution_count": null,
      "outputs": []
    },
    {
      "cell_type": "code",
      "metadata": {
        "id": "U9oRPGpiKVke",
        "outputId": "6d326b40-c60a-489c-f3d1-9296e58b500a",
        "colab": {
          "base_uri": "https://localhost:8080/",
          "height": 34
        }
      },
      "source": [
        "import numpy as np\n",
        "bit_num = 20000\n",
        "m = np.random.randint(0, 2, (bit_num))\n",
        "\n",
        "print(\"情報ビット列のサイズ→\", m.size)"
      ],
      "execution_count": 5,
      "outputs": [
        {
          "output_type": "stream",
          "text": [
            "情報ビット列のサイズ→ 20000\n"
          ],
          "name": "stdout"
        }
      ]
    },
    {
      "cell_type": "markdown",
      "metadata": {
        "id": "f3WSmTQqfIJH"
      },
      "source": [
        "金先生BPSK例題のSNR拡張Ver"
      ]
    },
    {
      "cell_type": "code",
      "metadata": {
        "id": "GQfSARvbejt7",
        "outputId": "c68ccc42-fb69-48f4-cbec-ad1822bf09f0",
        "colab": {
          "base_uri": "https://localhost:8080/",
          "height": 938
        }
      },
      "source": [
        "##################\n",
        "# BPSK Modulation\n",
        "##################\n",
        "\n",
        "import numpy as np\n",
        "import math\n",
        "import matplotlib.pyplot as plt\n",
        "\n",
        "m = np.array([1,0,1,1,0,1,1,1,0,0,0,1])      # ビット系列\n",
        "M = round(m.shape[0])          # シンボル数（BPSK：1ビット/シンボル)\n",
        "\n",
        "fc = 100;                 # 搬送波周波数 [Hz] \n",
        "R  = 100;                 # シンボルレート [symbols/sec]\n",
        "T  = 1/R;                 # シンボル周期\n",
        "Fs = R*10;                # サンプリング周波数（シンボル周期の10倍）\n",
        "Ts = 1/Fs;                # サンプル周期\n",
        "\n",
        "N  = round(T/Ts);         # シンボル当たりのサンプル数\n",
        "mm = np.arange(M);\n",
        "n  = np.arange(M*N);      \n",
        "t  = n*Ts;                # 時間  \n",
        "pi = math.pi;\n",
        "car = np.exp(np.array(1j*2*pi*fc*t));  # 搬送波（1周期/シンボル）\n",
        "g_t = np.ones(N);          # パルス整形フィルタ\n",
        "\n",
        "# Modulation\n",
        "\n",
        "uI = np.zeros(M);\n",
        "uQ = np.zeros(M);\n",
        "uI_t = [];\n",
        "uQ_t = [];\n",
        "\n",
        "for ii in range(M):\n",
        "  if m[ii] == 0:\n",
        "    ph = math.pi       # '0'\n",
        "  else:\n",
        "    ph = 0             # '1'            \n",
        "\n",
        "  # 符号系列\n",
        "  uI[ii] = math.cos(ph);\n",
        "  uQ[ii] = math.sin(ph);\n",
        "      \n",
        "  # 基底帯域信号\n",
        "  uI_t = np.hstack((uI_t, g_t*uI[ii]));\n",
        "  uQ_t = np.hstack((uQ_t, g_t*uQ[ii]));\n",
        "\n",
        "u   = uI_t+1j*uQ_t;     # 基底帯域信号\n",
        "s_t = (u*car).real;     # 帯域信号\n",
        "\n",
        "# De-Modulation\n",
        "\n",
        "SNR = [-5,5]; # [dB: decibel], modified by yamakawa\n",
        "error_rate = np.zeros(len(SNR));\n",
        "\n",
        "for iii in range(len(SNR)):\n",
        "  rt = s_t + 10**(-SNR[iii]/20)*np.random.randn(M*N); #\n",
        "  rI = rt*2*car.real;\n",
        "  rQ = -rt*2*car.imag;\n",
        "  r_uI = [];\n",
        "  r_uQ = [];\n",
        "  for ii in range(M):\n",
        "      r_uI = np.append(r_uI, np.mean(rI[(ii*N):((ii+1)*N-1)]));\n",
        "      r_uQ = np.append(r_uQ, np.mean(rQ[(ii*N):((ii+1)*N-1)]));\n",
        "\n",
        "  fig = plt.figure(figsize=(7,7))\n",
        "  ax = fig.add_subplot(111)\n",
        "  ax.plot(-1, 0, 'xr')\n",
        "  ax.plot(1, 0, 'xr')\n",
        "  ax.plot(r_uI, r_uQ, 'o')\n",
        "  ax.set_xlabel(\"Inphase\")\n",
        "  ax.set_ylabel(\"Quadrature\")\n",
        "  ax.set_xlim(-1.5,1.5)\n",
        "  ax.set_ylim(-1.5,1.5)\n",
        "  ax.grid(\"both\")\n",
        "  if iii == 0:\n",
        "    plt.title(\"SNR = -5 [dB]\",y=-0.15,fontsize = 15);\n",
        "  else:\n",
        "    plt.title(\"SNR = 5 [dB]\",y=-0.15,fontsize = 15);\n",
        "\n",
        "  bitdat = [];\n",
        "  for ii in range(M):\n",
        "    if r_uI[ii] > 0:\n",
        "      bitdat0 = 1       # '0'\n",
        "    else:\n",
        "      bitdat0 = 0       # '1'         \n",
        "    bitdat = np.append(bitdat, bitdat0);\n",
        "\n",
        "  error_rate[iii] = np.mean(m != bitdat);\n",
        "print('BER_meas: ', error_rate);"
      ],
      "execution_count": 18,
      "outputs": [
        {
          "output_type": "stream",
          "text": [
            "BER_meas:  [0. 0.]\n"
          ],
          "name": "stdout"
        },
        {
          "output_type": "display_data",
          "data": {
            "image/png": "[encoded data removed]",
            "text/plain": [
              "<Figure size 504x504 with 1 Axes>"
            ]
          },
          "metadata": {
            "tags": [],
            "needs_background": "light"
          }
        },
        {
          "output_type": "display_data",
          "data": {
            "image/png": "[encoded data removed]",
            "text/plain": [
              "<Figure size 504x504 with 1 Axes>"
            ]
          },
          "metadata": {
            "tags": [],
            "needs_background": "light"
          }
        }
      ]
    }
  ]
}