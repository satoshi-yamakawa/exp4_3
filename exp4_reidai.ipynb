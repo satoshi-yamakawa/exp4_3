{
  "nbformat": 4,
  "nbformat_minor": 0,
  "metadata": {
    "colab": {
      "name": "exp4_reidai.ipynb",
      "provenance": [],
      "authorship_tag": "ABX9TyPA2eGD6iQp0wZn9QZPhJzZ",
      "include_colab_link": true
    },
    "kernelspec": {
      "name": "python3",
      "display_name": "Python 3"
    }
  },
  "cells": [
    {
      "cell_type": "markdown",
      "metadata": {
        "id": "view-in-github",
        "colab_type": "text"
      },
      "source": [
        "<a href=\"https://colab.research.google.com/github/satoshi-yamakawa/exp4_3/blob/data-loading/exp4_reidai.ipynb\" target=\"_parent\"><img src=\"https://colab.research.google.com/assets/colab-badge.svg\" alt=\"Open In Colab\"/></a>"
      ]
    },
    {
      "cell_type": "markdown",
      "metadata": {
        "id": "chj4aA1_mqr2"
      },
      "source": [
        "データ読み込みをするにはデータファイルを事前にアップロードしておく必要がある"
      ]
    },
    {
      "cell_type": "code",
      "metadata": {
        "id": "rMYk-N30mp9-"
      },
      "source": [
        "######################\n",
        "# data1.xlsxの読み込み\n",
        "######################\n",
        "import xlrd\n",
        "Npre = 16\n",
        "Ndata = 32\n",
        "\n",
        "wb = xlrd.open_workbook('data1.xlsx')               # エクセルの読み込み\n",
        "\n",
        "p = wb.sheet_by_name('プリアンブルビット系列')      # 数値を読み込みたいシートを選択\n",
        "m_pre = np.array(p.col_values(0))                   # プリアンブルビット系列を読み込み\n",
        "d = wb.sheet_by_name('データ系列')\n",
        "m_data = np.array(d.col_values(0))                  # データ系列を読み込み\n",
        "\n",
        "sheet = wb.sheet_by_name('変調信号')\n",
        "col1 = np.array(sheet.col_values(0))\n",
        "col1 = np.delete(col1,0,0)\n",
        "col1 = np.array([float(s) for s in col1])           # u_Iデータを読み込み\n",
        "col2 = np.array(sheet.col_values(1))\n",
        "col2 = np.delete(col2,0,0)\n",
        "col2 = np.array([float(s) for s in col2])           # u_Qデータを読み込み\n",
        "\n",
        "u1 = col1+1j*col2                                   # 基底帯域信号\n",
        "\n",
        "u_hat_pre = np.delete(u1,range(Npre,Npre+Ndata),0)  # 受信プリアンブル基底帯域信号\n",
        "u_hat_data = np.delete(u1,range(Npre),0)            # 受信データビット基底帯域信号"
      ],
      "execution_count": null,
      "outputs": []
    },
    {
      "cell_type": "code",
      "metadata": {
        "id": "2EeEiXrrnKFP"
      },
      "source": [
        "######################\n",
        "# data2.xlsxの読み込み\n",
        "######################\n",
        "import xlrd\n",
        "Npre = 16\n",
        "Ndata = 32\n",
        "\n",
        "wb = xlrd.open_workbook('data2.xlsx')\n",
        "\n",
        "p = wb.sheet_by_name('プリアンブルビット系列')\n",
        "pcol1 = np.array(p.col_values(0))                   # プリアンブルビット系列を読み込み\n",
        "d = wb.sheet_by_name('データ系列')\n",
        "dcol1 = np.array(d.col_values(0))                   # データ系列を読み込み\n",
        "\n",
        "for ii in range(4):                                 # 4つの変調信号をfor文を使って読み込み\n",
        "  if ii == 0:\n",
        "    sheet = wb.sheet_by_name('変調信号(Ant１，TS１）')\n",
        "  if ii == 1:\n",
        "    sheet = wb.sheet_by_name('変調信号(Ant１，TS２）')\n",
        "  if ii == 2:\n",
        "    sheet = wb.sheet_by_name('変調信号(Ant２，TS１）')\n",
        "  if ii == 3:\n",
        "    sheet = wb.sheet_by_name('変調信号(Ant２，TS２）')\n",
        "\n",
        "  col1 = np.array(sheet.col_values(0))\n",
        "  col1 = np.delete(col1,0,0)\n",
        "  col1 = np.array([float(s) for s in col1])\n",
        "  col2 = np.array(sheet.col_values(1))\n",
        "  col2 = np.delete(col2,0,0)\n",
        "  col2 = np.array([float(s) for s in col2])\n",
        "\n",
        "  if ii == 0:\n",
        "    u1 = col1+1j*col2 # 基底帯域信号\n",
        "    u1_pre = np.delete(u1,range(Npre,Npre+Ndata),0)\n",
        "    u1_data = np.delete(u1,range(Npre),0)\n",
        "  if ii == 1:\n",
        "    u2 = col1+1j*col2 # 基底帯域信号\n",
        "    u2_pre = np.delete(u2,range(Npre,Npre+Ndata),0)\n",
        "    u2_data = np.delete(u2,range(Npre),0)\n",
        "  if ii == 2:\n",
        "    u3 = col1+1j*col2 # 基底帯域信号\n",
        "    u3_pre = np.delete(u3,range(Npre,Npre+Ndata),0)\n",
        "    u3_data = np.delete(u3,range(Npre),0)\n",
        "  if ii == 3:\n",
        "    u4 = col1+1j*col2 # 基底帯域信号\n",
        "    u4_pre = np.delete(u4,range(Npre,Npre+Ndata),0)\n",
        "    u4_data = np.delete(u4,range(Npre),0)\n",
        "\n",
        "u_ant1_pre = u1_pre + u2_pre                        # アンテナ1のプリアンブル系列合成基底帯域信号\n",
        "u_ant1_data = u1_data + u2_data                     # アンテナ1のデータ系列合成基底帯域信号\n",
        "\n",
        "u_ant2_pre = u3_pre + u4_pre                        # アンテナ2のプリアンブル系列合成基底帯域信号\n",
        "u_ant2_data = u3_data + u4_data                     # アンテナ2のデータ系列合成基底帯域信号"
      ],
      "execution_count": null,
      "outputs": []
    }
  ]
}